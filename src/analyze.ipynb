{
 "cells": [
  {
   "cell_type": "code",
   "execution_count": 2,
   "id": "d66e3034",
   "metadata": {},
   "outputs": [],
   "source": [
    "import numpy as np\n",
    "import matplotlib.pyplot as plt\n",
    "import pickle as pkl"
   ]
  },
  {
   "cell_type": "code",
   "execution_count": 4,
   "id": "9b13dbf1",
   "metadata": {},
   "outputs": [
    {
     "name": "stdout",
     "output_type": "stream",
     "text": [
      "{'p_val': np.float64(nan), 'clustering': array([5, 1, 3, 1, 4, 2], dtype=int32)}\n"
     ]
    }
   ],
   "source": [
    "dict = None\n",
    "\n",
    "with open('erasmus_analysis_brutalize_drop.pkl', 'rb') as f:\n",
    "    dict = pkl.load(f)\n",
    "\n",
    "print(dict)"
   ]
  },
  {
   "cell_type": "code",
   "execution_count": 5,
   "id": "7581187b",
   "metadata": {},
   "outputs": [
    {
     "name": "stdout",
     "output_type": "stream",
     "text": [
      "{'p_val': np.float64(nan), 'clustering': array([3, 1, 5, 4, 6, 2], dtype=int32)}\n"
     ]
    }
   ],
   "source": [
    "dict = None\n",
    "\n",
    "with open('erasmus_analysis_brutalize_impute.pkl', 'rb') as f:\n",
    "    dict = pkl.load(f)\n",
    "\n",
    "print(dict)"
   ]
  },
  {
   "cell_type": "code",
   "execution_count": 6,
   "id": "83b4f223",
   "metadata": {},
   "outputs": [
    {
     "name": "stdout",
     "output_type": "stream",
     "text": [
      "{'p_val': np.float64(nan), 'clustering': array([6, 1, 5, 3, 4, 2], dtype=int32)}\n"
     ]
    }
   ],
   "source": [
    "dict = None\n",
    "\n",
    "with open('erasmus_analysis_imputed_col.pkl', 'rb') as f:\n",
    "    dict = pkl.load(f)\n",
    "\n",
    "print(dict)"
   ]
  }
 ],
 "metadata": {
  "kernelspec": {
   "display_name": "real_experiments",
   "language": "python",
   "name": "python3"
  },
  "language_info": {
   "codemirror_mode": {
    "name": "ipython",
    "version": 3
   },
   "file_extension": ".py",
   "mimetype": "text/x-python",
   "name": "python",
   "nbconvert_exporter": "python",
   "pygments_lexer": "ipython3",
   "version": "3.11.13"
  }
 },
 "nbformat": 4,
 "nbformat_minor": 5
}
