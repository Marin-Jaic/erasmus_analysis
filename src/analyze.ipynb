{
 "cells": [
  {
   "cell_type": "code",
   "execution_count": 3,
   "id": "d66e3034",
   "metadata": {},
   "outputs": [],
   "source": [
    "import numpy as np\n",
    "import matplotlib.pyplot as plt\n",
    "import pickle as pkl"
   ]
  },
  {
   "cell_type": "code",
   "execution_count": 4,
   "id": "9b13dbf1",
   "metadata": {},
   "outputs": [
    {
     "name": "stdout",
     "output_type": "stream",
     "text": [
      "{'sources': array([0, 1, 2]), 'remaining_columns': Index(['sex', 'age', 'rr', 'dbp', 'sbp', 'temp', 'hr', 'spo2', 'creat',\n",
      "       'sodium', 'urea', 'crp', 'glucose', 'wbc', 'comorb_cancer',\n",
      "       'comorb_liver', 'comorb_chf', 'comorb_renal', 'comorb_diabetes',\n",
      "       'comorb_copd', 'mortality_30_day', 'treatment', 'source'],\n",
      "      dtype='object'), 'data_per_source': {1: 478, 2: 228, 0: 202, 3: 0, 4: 0, 5: 0}, 'constant_cols': {0: [], 1: [], 2: []}, 'nested_llf': np.float64(-46.6189286622578), 'pooled_llf': np.float64(-96.68789853443056), 'nested_df': np.int64(123), 'pooled_df': np.int64(41), 'p_val': np.float64(0.08459737208100565), 'clustering': array([1., 1., 1.])}\n"
     ]
    }
   ],
   "source": [
    "dict = None\n",
    "\n",
    "with open('erasmus_analysis_drop.pkl', 'rb') as f:\n",
    "    dict = pkl.load(f)\n",
    "\n",
    "print(dict)"
   ]
  },
  {
   "cell_type": "code",
   "execution_count": 5,
   "id": "7581187b",
   "metadata": {},
   "outputs": [
    {
     "name": "stdout",
     "output_type": "stream",
     "text": [
      "{'sources': array([0, 1, 2, 3, 4]), 'remaining_columns': Index(['sex', 'age', 'rr', 'temp', 'hr', 'sodium', 'urea', 'crp', 'glucose',\n",
      "       'wbc', 'comorb_cancer', 'comorb_chf', 'comorb_diabetes', 'comorb_copd',\n",
      "       'mortality_30_day', 'treatment', 'source'],\n",
      "      dtype='object'), 'data_per_source': {4: 794, 1: 785, 2: 401, 0: 304, 3: 120, 5: 0}, 'constant_cols': {0: [], 1: [], 2: [], 3: [], 4: []}, 'nested_llf': np.float64(-353.0366765048127), 'pooled_llf': np.float64(-465.9190532586855), 'nested_df': np.int64(149), 'pooled_df': np.int64(29), 'p_val': np.float64(1.7854767209643836e-08), 'clustering': array([3, 1, 4, 5, 2], dtype=int32)}\n"
     ]
    }
   ],
   "source": [
    "dict = None\n",
    "\n",
    "with open('erasmus_analysis_brutalize_impute.pkl', 'rb') as f:\n",
    "    dict = pkl.load(f)\n",
    "\n",
    "print(dict)"
   ]
  },
  {
   "cell_type": "code",
   "execution_count": 7,
   "id": "83b4f223",
   "metadata": {},
   "outputs": [
    {
     "name": "stdout",
     "output_type": "stream",
     "text": [
      "{'sources': array([0, 1, 2, 3]), 'remaining_columns': Index(['sex', 'age', 'rr', 'dbp', 'sbp', 'temp', 'hr', 'spo2', 'creat',\n",
      "       'sodium', 'urea', 'crp', 'glucose', 'wbc', 'comorb_cancer',\n",
      "       'comorb_chf', 'comorb_renal', 'comorb_diabetes', 'comorb_copd',\n",
      "       'mortality_30_day', 'treatment', 'source'],\n",
      "      dtype='object'), 'data_per_source': {3: 794, 0: 785, 1: 401, 2: 120, 4: 0, 5: 0}, 'constant_cols': {0: [], 1: [], 2: [], 3: []}, 'nested_llf': np.float64(-297.1252614187502), 'pooled_llf': np.float64(-407.6881156810649), 'nested_df': np.int64(159), 'pooled_df': np.int64(39), 'p_val': np.float64(5.4513201119025494e-08), 'clustering': array([1, 4, 3, 2], dtype=int32)}\n"
     ]
    }
   ],
   "source": [
    "dict = None\n",
    "\n",
    "with open('erasmus_analysis_impute.pkl', 'rb') as f:\n",
    "    dict = pkl.load(f)\n",
    "\n",
    "print(dict)"
   ]
  }
 ],
 "metadata": {
  "kernelspec": {
   "display_name": "real_experiments",
   "language": "python",
   "name": "python3"
  },
  "language_info": {
   "codemirror_mode": {
    "name": "ipython",
    "version": 3
   },
   "file_extension": ".py",
   "mimetype": "text/x-python",
   "name": "python",
   "nbconvert_exporter": "python",
   "pygments_lexer": "ipython3",
   "version": "3.11.13"
  }
 },
 "nbformat": 4,
 "nbformat_minor": 5
}
