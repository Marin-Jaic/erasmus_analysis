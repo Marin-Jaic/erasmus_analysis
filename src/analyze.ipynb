{
 "cells": [
  {
   "cell_type": "code",
   "execution_count": 1,
   "id": "d66e3034",
   "metadata": {},
   "outputs": [],
   "source": [
    "import numpy as np\n",
    "import matplotlib.pyplot as plt\n",
    "import pickle as pkl"
   ]
  },
  {
   "cell_type": "code",
   "execution_count": 10,
   "id": "9b13dbf1",
   "metadata": {},
   "outputs": [
    {
     "name": "stdout",
     "output_type": "stream",
     "text": [
      "{'starting_sizes': {3: 120, 4: 213, 0: 304, 2: 401, 1: 785, 5: 794}, 'removal_order': [], 'results': {'sources': array([0, 1, 2]), 'remaining_columns': Index(['sex', 'age', 'rr', 'dbp', 'sbp', 'temp', 'hr', 'spo2', 'creat',\n",
      "       'sodium', 'urea', 'crp', 'glucose', 'wbc', 'comorb_cancer',\n",
      "       'comorb_liver', 'comorb_chf', 'comorb_renal', 'comorb_diabetes',\n",
      "       'comorb_copd', 'mortality_30_day', 'treatment', 'source'],\n",
      "      dtype='object'), 'data_per_source': {1: 478, 2: 228, 0: 202, 3: 0, 4: 0, 5: 0}, 'constant_cols': {0: [], 1: [], 2: []}, 'nested_llf': np.float64(-46.61892866087377), 'pooled_llf': np.float64(-96.68789853443056), 'nested_df': np.int64(123), 'pooled_df': np.int64(41), 'p_val': np.float64(0.0845973720516582), 'clustering': array([1., 1., 1.])}}\n"
     ]
    }
   ],
   "source": [
    "dict = None\n",
    "\n",
    "with open('erasmus_analysis_drop.pkl', 'rb') as f:\n",
    "    dict = pkl.load(f)\n",
    "\n",
    "print(dict)"
   ]
  },
  {
   "cell_type": "code",
   "execution_count": 11,
   "id": "209a9bb1",
   "metadata": {},
   "outputs": [
    {
     "name": "stdout",
     "output_type": "stream",
     "text": [
      "{'starting_sizes': {3: 120, 4: 213, 0: 304, 2: 401, 1: 785, 5: 794}, 'removal_order': [3], 'results': {'sources': array([0, 1, 2, 4, 5]), 'remaining_columns': Index(['sex', 'age', 'rr', 'dbp', 'sbp', 'temp', 'hr', 'spo2', 'sodium',\n",
      "       'urea', 'crp', 'glucose', 'wbc', 'comorb_chf', 'comorb_diabetes',\n",
      "       'comorb_copd', 'mortality_30_day', 'treatment', 'source'],\n",
      "      dtype='object'), 'data_per_source': {1: 480, 2: 400, 5: 397, 0: 202, 4: 170, 3: 0}, 'constant_cols': {0: [], 1: [], 2: [], 4: [], 5: []}, 'nested_llf': np.float64(-175.82981734905022), 'pooled_llf': np.float64(-305.86621081660644), 'nested_df': np.int64(169), 'pooled_df': np.int64(33), 'p_val': np.float64(8.202441637631298e-10), 'clustering': array([3, 1, 1, 4, 2], dtype=int32)}}\n"
     ]
    }
   ],
   "source": [
    "dict = None\n",
    "\n",
    "with open('erasmus_analysis_brutalize_drop.pkl', 'rb') as f:\n",
    "    dict = pkl.load(f)\n",
    "\n",
    "print(dict)"
   ]
  },
  {
   "cell_type": "code",
   "execution_count": 12,
   "id": "7581187b",
   "metadata": {},
   "outputs": [
    {
     "name": "stdout",
     "output_type": "stream",
     "text": [
      "{'starting_sizes': {3: 120, 4: 213, 0: 304, 2: 401, 1: 785, 5: 794}, 'removal_order': [3, 4, 0, 2, 1, 5]}\n"
     ]
    }
   ],
   "source": [
    "dict = None\n",
    "\n",
    "with open('erasmus_analysis_brutalize_impute.pkl', 'rb') as f:\n",
    "    dict = pkl.load(f)\n",
    "\n",
    "print(dict)"
   ]
  },
  {
   "cell_type": "code",
   "execution_count": 9,
   "id": "83b4f223",
   "metadata": {},
   "outputs": [
    {
     "name": "stdout",
     "output_type": "stream",
     "text": [
      "{'starting_sizes': {5: 121, 4: 213, 3: 304, 2: 401, 0: 785, 1: 794}, 'removal_order': [], 'results': {'sources': array([0, 1, 2, 3, 4, 5]), 'remaining_columns': Index(['sex', 'age', 'rr', 'dbp', 'sbp', 'temp', 'hr', 'spo2', 'creat',\n",
      "       'sodium', 'urea', 'crp', 'glucose', 'wbc', 'comorb_cancer',\n",
      "       'comorb_liver', 'comorb_chf', 'comorb_renal', 'comorb_diabetes',\n",
      "       'comorb_copd', 'mortality_30_day', 'treatment', 'source'],\n",
      "      dtype='object'), 'data_per_source': {1: 794, 0: 785, 2: 401, 3: 304, 4: 213, 5: 121}, 'constant_cols': {0: [], 1: [], 2: [], 3: [], 4: [], 5: []}, 'nested_llf': np.float64(-893.8458634633832), 'pooled_llf': np.float64(-1054.55911637824), 'nested_df': np.int64(251), 'pooled_df': np.int64(41), 'p_val': np.float64(1.1465260104957566e-06), 'clustering': array([1, 1, 1, 1, 2, 3], dtype=int32)}}\n"
     ]
    }
   ],
   "source": [
    "dict = None\n",
    "\n",
    "with open('erasmus_analysis_impute.pkl', 'rb') as f:\n",
    "    dict = pkl.load(f)\n",
    "\n",
    "print(dict)"
   ]
  }
 ],
 "metadata": {
  "kernelspec": {
   "display_name": "real_experiments",
   "language": "python",
   "name": "python3"
  },
  "language_info": {
   "codemirror_mode": {
    "name": "ipython",
    "version": 3
   },
   "file_extension": ".py",
   "mimetype": "text/x-python",
   "name": "python",
   "nbconvert_exporter": "python",
   "pygments_lexer": "ipython3",
   "version": "3.11.13"
  }
 },
 "nbformat": 4,
 "nbformat_minor": 5
}
